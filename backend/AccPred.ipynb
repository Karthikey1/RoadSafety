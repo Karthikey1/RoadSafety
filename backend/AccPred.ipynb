{
 "cells": [
  {
   "cell_type": "code",
   "execution_count": 2,
   "id": "2e7a979a-3695-4489-bb68-429232d60bc5",
   "metadata": {},
   "outputs": [
    {
     "name": "stdout",
     "output_type": "stream",
     "text": [
      "Accuracy: 0.8533333333333334\n",
      "\n",
      "Classification Report:\n",
      "              precision    recall  f1-score   support\n",
      "\n",
      "           0       0.91      0.93      0.92      2711\n",
      "           1       0.13      0.09      0.11       289\n",
      "\n",
      "    accuracy                           0.85      3000\n",
      "   macro avg       0.52      0.51      0.51      3000\n",
      "weighted avg       0.83      0.85      0.84      3000\n",
      "\n",
      "\n",
      "Confusion Matrix:\n",
      "[[2534  177]\n",
      " [ 263   26]]\n"
     ]
    },
    {
     "data": {
      "image/png": "[encoded data removed]",
      "text/plain": [
       "<Figure size 640x480 with 1 Axes>"
      ]
     },
     "metadata": {},
     "output_type": "display_data"
    },
    {
     "name": "stdout",
     "output_type": "stream",
     "text": [
      "\n",
      "Hotspot Probability: 33.76%\n"
     ]
    }
   ],
   "source": [
    "import pandas as pd\n",
    "import numpy as np\n",
    "from sklearn.model_selection import train_test_split\n",
    "from sklearn.ensemble import RandomForestClassifier\n",
    "from sklearn.metrics import accuracy_score, classification_report, confusion_matrix\n",
    "from sklearn.preprocessing import StandardScaler\n",
    "import matplotlib.pyplot as plt\n",
    "import seaborn as sns\n",
    "\n",
    "np.random.seed(42)\n",
    "n_samples = 10000\n",
    "data = {\n",
    "    'latitude': np.random.uniform(40.5, 40.9, n_samples),\n",
    "    'longitude': np.random.uniform(-74.0, -73.7, n_samples),\n",
    "    'time_of_day': np.random.randint(0, 24, n_samples),\n",
    "    'weather': np.random.choice([0, 1, 2], n_samples, p=[0.6, 0.3, 0.1]),  # 0=clear, 1=rain, 2=fog\n",
    "    'road_type': np.random.choice([0, 1, 2], n_samples, p=[0.7, 0.2, 0.1]),  # 0=highway, 1=urban, 2=rural\n",
    "    'traffic_volume': np.random.exponential(50, n_samples),\n",
    "    'accident_occurred': np.random.choice([0, 1], n_samples, p=[0.9, 0.1])\n",
    "}\n",
    "\n",
    "df = pd.DataFrame(data)\n",
    "\n",
    "df['high_traffic'] = np.where(df['traffic_volume'] > 100, 1, 0)\n",
    "df['rush_hour'] = np.where((df['time_of_day'] >= 7) & (df['time_of_day'] <= 10) | \n",
    "                          (df['time_of_day'] >= 16) & (df['time_of_day'] <= 19), 1, 0)\n",
    "\n",
    "X = df.drop('accident_occurred', axis=1)\n",
    "y = df['accident_occurred']\n",
    "\n",
    "X_train, X_test, y_train, y_test = train_test_split(X, y, test_size=0.3, random_state=42, stratify=y)\n",
    "\n",
    "rf_model = RandomForestClassifier(\n",
    "    n_estimators=100,\n",
    "    max_depth=10,\n",
    "    min_samples_split=5,\n",
    "    class_weight='balanced',  # Handles class imbalance\n",
    "    random_state=42\n",
    ")\n",
    "\n",
    "rf_model.fit(X_train, y_train)\n",
    "\n",
    "y_pred = rf_model.predict(X_test)\n",
    "y_pred_proba = rf_model.predict_proba(X_test)[:, 1]\n",
    "\n",
    "\n",
    "print(\"Accuracy:\", accuracy_score(y_test, y_pred))\n",
    "print(\"\\nClassification Report:\")\n",
    "print(classification_report(y_test, y_pred))\n",
    "print(\"\\nConfusion Matrix:\")\n",
    "print(confusion_matrix(y_test, y_pred))\n",
    "\n",
    "feature_importance = pd.Series(rf_model.feature_importances_, index=X.columns)\n",
    "feature_importance.nlargest(10).plot(kind='barh')\n",
    "plt.title('Feature Importance')\n",
    "plt.show()\n",
    "\n",
    "def predict_hotspot(lat, lon, time, weather, road_type, traffic):\n",
    "    input_data = pd.DataFrame([[lat, lon, time, weather, road_type, traffic, 0, 0]],\n",
    "                              columns=X.columns)\n",
    "    proba = rf_model.predict_proba(input_data)[0][1]\n",
    "    return proba\n",
    "\n",
    "hotspot_prob = predict_hotspot(12.97, 77.59, 18, 1, 1, 150)\n",
    "print(f\"\\nHotspot Probability: {hotspot_prob:.2%}\")"
   ]
  },
  {
   "cell_type": "code",
   "execution_count": 3,
   "id": "f4c1eea3-c0c6-4bca-bd99-ead7141626cd",
   "metadata": {},
   "outputs": [
    {
     "data": {
      "text/plain": [
       "['accpred.pkl']"
      ]
     },
     "execution_count": 3,
     "metadata": {},
     "output_type": "execute_result"
    }
   ],
   "source": [
    "import joblib\n",
    "joblib.dump(rf_model, 'accpred.pkl')"
   ]
  },
  {
   "cell_type": "code",
   "execution_count": null,
   "id": "6621b3d3-a3ed-4f6b-bf20-bcb89747980e",
   "metadata": {},
   "outputs": [],
   "source": []
  }
 ],
 "metadata": {
  "kernelspec": {
   "display_name": "Python 3 (ipykernel)",
   "language": "python",
   "name": "python3"
  },
  "language_info": {
   "codemirror_mode": {
    "name": "ipython",
    "version": 3
   },
   "file_extension": ".py",
   "mimetype": "text/x-python",
   "name": "python",
   "nbconvert_exporter": "python",
   "pygments_lexer": "ipython3",
   "version": "3.13.1"
  }
 },
 "nbformat": 4,
 "nbformat_minor": 5
}
